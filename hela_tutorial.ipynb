{
  "cells": [
    {
      "cell_type": "markdown",
      "metadata": {
        "id": "view-in-github",
        "colab_type": "text"
      },
      "source": [
        "<a href=\"https://colab.research.google.com/github/sbc806/scrna_mvae/blob/rwn_batch_effect_clean/hela_tutorial.ipynb\" target=\"_parent\"><img src=\"https://colab.research.google.com/assets/colab-badge.svg\" alt=\"Open In Colab\"/></a>"
      ]
    },
    {
      "cell_type": "code",
      "execution_count": null,
      "metadata": {
        "colab": {
          "base_uri": "https://localhost:8080/"
        },
        "id": "eC6QZYeQ9Q9X",
        "outputId": "a7273760-6129-40dd-81ed-1500e01a4b72"
      },
      "outputs": [
        {
          "output_type": "stream",
          "name": "stdout",
          "text": [
            "['/content', '/env/python', '/usr/lib/python310.zip', '/usr/lib/python3.10', '/usr/lib/python3.10/lib-dynload', '', '/usr/local/lib/python3.10/dist-packages', '/usr/lib/python3/dist-packages', '/usr/local/lib/python3.10/dist-packages/IPython/extensions', '/usr/local/lib/python3.10/dist-packages/setuptools/_vendor', '/root/.ipython']\n"
          ]
        }
      ],
      "source": [
        "import sys as sys\n",
        "\n",
        "print(sys.path)\n",
        "# If running notebook outside of scrna_mvae directory, add it to the path\n",
        "sys.path.append('/content/scrna_mvae/')"
      ]
    },
    {
      "cell_type": "code",
      "execution_count": null,
      "metadata": {
        "id": "V7_10lFA8qgQ"
      },
      "outputs": [],
      "source": [
        "import os\n",
        "\n",
        "import torch\n",
        "\n",
        "from mt.data import create_dataset\n",
        "from mt.data.umi_data import UMIVaeDataset\n",
        "from mt.mvae import utils\n",
        "from mt.mvae.models import Trainer\n",
        "from mt.utils import str2bool\n",
        "from mt.mvae.models.nb_vae import NBVAE\n",
        "import numpy as np\n",
        "\n",
        "import pandas as pd\n",
        "import scanpy as sc"
      ]
    },
    {
      "cell_type": "markdown",
      "metadata": {
        "id": "0VSOe0VfQZMF"
      },
      "source": [
        "# HeLa CellUntangler Tutorial"
      ]
    },
    {
      "cell_type": "markdown",
      "metadata": {
        "id": "VBsGUMSsEb-W"
      },
      "source": [
        "We will apply CellUntangler to a dataset of HeLa cells to capture the cell cycle in one latent representation and non-cell cycle signals in another representation.\n",
        "\n",
        "The dataset can be accessed at: [HeLa](https://drive.google.com/file/d/1eOAGupayrU2d_Day2PrV7ce8Jiq0RgBT/view?usp=sharing)."
      ]
    },
    {
      "cell_type": "markdown",
      "metadata": {
        "id": "YVMxjTbErZOs"
      },
      "source": [
        "## Read in and process the data."
      ]
    },
    {
      "cell_type": "code",
      "execution_count": null,
      "metadata": {
        "id": "w_9Ofqi2FA6V"
      },
      "outputs": [],
      "source": [
        "hela_dataset_path = \"/content/drive/MyDrive/mvae_research/datasets/revelio_paper/hela/hela_select_with_phase.h5ad\"\n",
        "adata = sc.read_h5ad(hela_dataset_path)"
      ]
    },
    {
      "cell_type": "markdown",
      "metadata": {
        "id": "IabsVMVVF_bo"
      },
      "source": [
        "Read in the cell cycle marker genes that will be used to capture the cell cycle signal.\n",
        "The cell cycle marker genes can be accessed at: [CellUntangler Cell Cycle Marker Genes](https://drive.google.com/file/d/1DIh9Jfc0vS3-fETCHm1ClxOQTHQB_-ef/view?usp=sharing)."
      ]
    },
    {
      "cell_type": "code",
      "execution_count": null,
      "metadata": {
        "id": "H_IH8X8MF5RZ"
      },
      "outputs": [],
      "source": [
        "cell_cycle_genes_path = \"/content/drive/MyDrive/mvae_research/cyc_gene_2023_1219_v1.tsv\"\n",
        "cell_cycle_genes = pd.read_csv(cell_cycle_genes_path, header=None, sep=\"\\t\")"
      ]
    },
    {
      "cell_type": "markdown",
      "metadata": {
        "id": "ctWn7_P-oNH4"
      },
      "source": [
        "Rearrange the genes so that cell cycle marker genes are placed first followed by the rest of the non-cell cycle genes."
      ]
    },
    {
      "cell_type": "code",
      "execution_count": null,
      "metadata": {
        "colab": {
          "base_uri": "https://localhost:8080/"
        },
        "id": "rxQXLNxuHMCW",
        "outputId": "9e1e7fb9-2db0-4d11-8230-2e2a2d1c1040"
      },
      "outputs": [
        {
          "output_type": "stream",
          "name": "stdout",
          "text": [
            "Number of cell cycle genes present in adata: 174\n"
          ]
        },
        {
          "output_type": "stream",
          "name": "stderr",
          "text": [
            "<ipython-input-16-76638c8410c4>:8: ImplicitModificationWarning: Trying to modify attribute `._uns` of view, initializing view as actual.\n",
            "  adata.uns[\"new_gene_ordering\"] = rearranged_indices\n"
          ]
        }
      ],
      "source": [
        "# Genes involved with the cell cycle present in adata\n",
        "contained_genes = adata.var[\"gene_symbols\"].isin(cell_cycle_genes[0])\n",
        "print(f\"Number of cell cycle genes present in adata: {np.sum(contained_genes)}\")\n",
        "cycle_gene_indices = np.where(contained_genes)[0]\n",
        "non_cycle_gene_indices = np.where(~contained_genes)[0]\n",
        "rearranged_indices = np.hstack((cycle_gene_indices, non_cycle_gene_indices))\n",
        "adata = adata[:, rearranged_indices]\n",
        "adata.uns[\"new_gene_ordering\"] = rearranged_indices"
      ]
    },
    {
      "cell_type": "markdown",
      "metadata": {
        "id": "EuQas5QBIgco"
      },
      "source": [
        "## Obtain the configuration for the hyperparameters for the CellUntangler model and for training the model."
      ]
    },
    {
      "cell_type": "code",
      "execution_count": null,
      "metadata": {
        "id": "xXzMzj9qUeI2"
      },
      "outputs": [],
      "source": [
        "from mt.mvae.models.get_config import get_config"
      ]
    },
    {
      "cell_type": "code",
      "execution_count": null,
      "metadata": {
        "id": "m1PwyIiIU6Zg"
      },
      "outputs": [],
      "source": [
        "config = get_config()"
      ]
    },
    {
      "cell_type": "markdown",
      "metadata": {
        "id": "tWyKpr5rQjee"
      },
      "source": [
        "To capture the cell cycle in one representation, we use the hyperbolic space with the rotated wrapped normal distribution (RoWN) with a dimension of 2, which is denoted as r2.\n",
        "\n",
        "To capture the non-cell cycle signals in the other representation, we use the Euclidean space with a dimension of 10, which is denoted as e10.\n",
        "\n",
        "Hence the model name is r2, e10."
      ]
    },
    {
      "cell_type": "code",
      "execution_count": null,
      "metadata": {
        "id": "2ke_lHV3Q0c1"
      },
      "outputs": [],
      "source": [
        "config.model_name = \"r2, e10\""
      ]
    },
    {
      "cell_type": "code",
      "execution_count": null,
      "metadata": {
        "id": "UYQo6bMNcqcV"
      },
      "outputs": [],
      "source": [
        "config.seed=26"
      ]
    },
    {
      "cell_type": "markdown",
      "metadata": {
        "id": "o5qEqRJnKaKu"
      },
      "source": [
        "## Create the training and test datasets."
      ]
    },
    {
      "cell_type": "code",
      "execution_count": null,
      "metadata": {
        "id": "uCU_UVBhIXor"
      },
      "outputs": [],
      "source": [
        "x = adata.X.todense().astype(np.double)\n",
        "batch = (np.zeros((x.shape[0], 1)) * -1).astype(np.int64)\n",
        "# y holds the batch vector for the dataset\n",
        "y = batch"
      ]
    },
    {
      "cell_type": "code",
      "execution_count": null,
      "metadata": {
        "colab": {
          "base_uri": "https://localhost:8080/"
        },
        "id": "SsWHHPnaoH35",
        "outputId": "75d6efe5-c3c2-4391-c9be-9596b9a9a774"
      },
      "outputs": [
        {
          "output_type": "stream",
          "name": "stdout",
          "text": [
            "in_dim = 4545\n",
            "dataset.in_dim = 4545\n",
            "Dataset seed: 26\n"
          ]
        }
      ],
      "source": [
        "# Create the dataset and separate it into training and test sets\n",
        "in_dim = x.shape[1]\n",
        "print(f\"in_dim = {in_dim}\")\n",
        "batch_size = config.batch_size\n",
        "dataset = UMIVaeDataset(batch_size=batch_size, in_dim=in_dim)\n",
        "print(f\"dataset.in_dim = {dataset.in_dim}\")\n",
        "# Create the dataset loaders\n",
        "train_loader = dataset.create_loaders(x, y, seed=config.seed)"
      ]
    },
    {
      "cell_type": "markdown",
      "metadata": {
        "id": "ZPYPVKLvLz5O"
      },
      "source": [
        "## Create the mask to be used to separate $\\mathbf{x}$ into different components that are used when training the model."
      ]
    },
    {
      "cell_type": "code",
      "execution_count": null,
      "metadata": {
        "colab": {
          "base_uri": "https://localhost:8080/"
        },
        "id": "8Nih0lViMekP",
        "outputId": "df23bdb9-7871-4a02-8f92-ed3b76689d43"
      },
      "outputs": [
        {
          "output_type": "stream",
          "name": "stderr",
          "text": [
            "<ipython-input-23-614bb1bd5b0f>:9: UserWarning: Creating a tensor from a list of numpy.ndarrays is extremely slow. Please consider converting the list to a single numpy.ndarray with numpy.array() before converting to a tensor. (Triggered internally at ../torch/csrc/utils/tensor_new.cpp:278.)\n",
            "  mask = torch.tensor([mask_cyc, mask_all])\n"
          ]
        }
      ],
      "source": [
        "# A mask that is 1 where the gene is a cell cycling gene and 0 otherwise\n",
        "mask_cyc = np.zeros(adata.n_vars)\n",
        "mask_cyc[adata.var[\"gene_symbols\"].isin(cell_cycle_genes[0])] = 1\n",
        "\n",
        "# A mask that is 0 where the gene is a cell cycling gene and 1 otherwise\n",
        "mask_all = np.ones(adata.n_vars)\n",
        "mask_all[adata.var[\"gene_symbols\"].isin(cell_cycle_genes[0])] = 0\n",
        "\n",
        "mask = torch.tensor([mask_cyc, mask_all])"
      ]
    },
    {
      "cell_type": "code",
      "execution_count": null,
      "metadata": {
        "colab": {
          "base_uri": "https://localhost:8080/"
        },
        "id": "ZqM75uN39ex5",
        "outputId": "eae43ca5-13f3-4607-a015-a57a8f4eeada"
      },
      "outputs": [
        {
          "output_type": "stream",
          "name": "stdout",
          "text": [
            "tensor([1., 1., 1.,  ..., 0., 0., 0.], dtype=torch.float64)\n",
            "174.0\n",
            "tensor([0., 0., 0.,  ..., 1., 1., 1.], dtype=torch.float64)\n",
            "4371.0\n"
          ]
        }
      ],
      "source": [
        "for row in mask:\n",
        "  print(row)\n",
        "  print(torch.sum(row).item())"
      ]
    },
    {
      "cell_type": "markdown",
      "metadata": {
        "id": "qKqMzmrSNg5I"
      },
      "source": [
        "## Train CellUntangler."
      ]
    },
    {
      "cell_type": "code",
      "execution_count": null,
      "metadata": {
        "id": "rk0b-4gNVtcu"
      },
      "outputs": [],
      "source": [
        "config.use_adamw=True"
      ]
    },
    {
      "cell_type": "code",
      "execution_count": null,
      "metadata": {
        "id": "gu_wvQjtVvZH"
      },
      "outputs": [],
      "source": [
        "config.weight_decay=None"
      ]
    },
    {
      "cell_type": "code",
      "execution_count": null,
      "metadata": {
        "id": "Scc7o_AXWwT-"
      },
      "outputs": [],
      "source": [
        "config.use_z2_no_grad=False"
      ]
    },
    {
      "cell_type": "code",
      "execution_count": null,
      "metadata": {
        "id": "fHy7gZ3GKVEP"
      },
      "outputs": [],
      "source": [
        "torch.set_default_dtype(torch.float64)"
      ]
    },
    {
      "cell_type": "code",
      "execution_count": null,
      "metadata": {
        "id": "VbitUMjLVagW"
      },
      "outputs": [],
      "source": [
        "config.z1_x2_ffn=[]"
      ]
    },
    {
      "cell_type": "code",
      "execution_count": null,
      "metadata": {
        "id": "XivXXNJ0Vk6t"
      },
      "outputs": [],
      "source": [
        "config.use_bias=True"
      ]
    },
    {
      "cell_type": "code",
      "execution_count": null,
      "metadata": {
        "id": "jV-QfbUoVm2W"
      },
      "outputs": [],
      "source": [
        "config.decoder_first_use_bias=True"
      ]
    },
    {
      "cell_type": "code",
      "execution_count": null,
      "metadata": {
        "id": "bZyTLQI7VqQO"
      },
      "outputs": [],
      "source": [
        "config.decoder_first_batch_norm=False"
      ]
    },
    {
      "cell_type": "code",
      "execution_count": null,
      "metadata": {
        "id": "3xTexO0bWPz2"
      },
      "outputs": [],
      "source": [
        "config.ignore_mask=False"
      ]
    },
    {
      "cell_type": "code",
      "execution_count": null,
      "metadata": {
        "id": "VmpcaY1kWTrW"
      },
      "outputs": [],
      "source": [
        "config.ignore_z1_mask=False"
      ]
    },
    {
      "cell_type": "code",
      "execution_count": null,
      "metadata": {
        "id": "028j3S75WWrW"
      },
      "outputs": [],
      "source": [
        "config.use_z2_batch_only=False"
      ]
    },
    {
      "cell_type": "code",
      "execution_count": null,
      "metadata": {
        "id": "4-Gk_pl7Wlqm"
      },
      "outputs": [],
      "source": [
        "config.print_batch_1=False"
      ]
    },
    {
      "cell_type": "code",
      "execution_count": null,
      "metadata": {
        "id": "P0MdMPo6Wocl"
      },
      "outputs": [],
      "source": [
        "config.use_poincare_z1=False"
      ]
    },
    {
      "cell_type": "code",
      "execution_count": null,
      "metadata": {
        "id": "EDUkp97oWtl2"
      },
      "outputs": [],
      "source": [
        "config.print_batch_2=False"
      ]
    },
    {
      "cell_type": "code",
      "execution_count": null,
      "metadata": {
        "id": "epV038e6Wz9-"
      },
      "outputs": [],
      "source": [
        "config.mask_z2=False"
      ]
    },
    {
      "cell_type": "code",
      "execution_count": null,
      "metadata": {
        "id": "7VHwitytW2Ze"
      },
      "outputs": [],
      "source": [
        "config.print_concat_z=False"
      ]
    },
    {
      "cell_type": "code",
      "execution_count": null,
      "metadata": {
        "id": "PVKXWBORW5jm"
      },
      "outputs": [],
      "source": [
        "config.print_batch_3=False"
      ]
    },
    {
      "cell_type": "code",
      "execution_count": null,
      "metadata": {
        "id": "1e6CAlMFW8c-"
      },
      "outputs": [],
      "source": [
        "config.use_z2_train=False"
      ]
    },
    {
      "cell_type": "code",
      "execution_count": null,
      "metadata": {
        "id": "59spy7z_Z9af"
      },
      "outputs": [],
      "source": [
        "config.use_z1_train=False"
      ]
    },
    {
      "cell_type": "code",
      "execution_count": null,
      "metadata": {
        "id": "wsKvtPDDXCRP"
      },
      "outputs": [],
      "source": [
        "config.specific_gene_weight=None"
      ]
    },
    {
      "cell_type": "code",
      "execution_count": null,
      "metadata": {
        "id": "6ME1ThhhXGpe"
      },
      "outputs": [],
      "source": [
        "config.second_weight=1"
      ]
    },
    {
      "cell_type": "code",
      "execution_count": null,
      "metadata": {
        "id": "l2jj2GRdX9bm"
      },
      "outputs": [],
      "source": [
        "config.init=\"custom\""
      ]
    },
    {
      "cell_type": "code",
      "execution_count": null,
      "metadata": {
        "id": "U2voudJFTnGq"
      },
      "outputs": [],
      "source": [
        "epoch_embeddings_save_path = \"./\"\n",
        "visualize_information={}\n",
        "visualize_information[\"epochs\"]=[i for i in range(0, 500, 50)]\n",
        "visualize_information[\"x\"]=x\n",
        "visualize_information[\"y\"]=y\n",
        "visualize_information[\"embeddings_save_path\"]=epoch_embeddings_save_path\n",
        "visualize_information[\"model_name\"]=config.model_name"
      ]
    },
    {
      "cell_type": "code",
      "execution_count": null,
      "metadata": {
        "colab": {
          "base_uri": "https://localhost:8080/"
        },
        "id": "PqDzFW0YYGe2",
        "outputId": "6c86b4b4-724c-4a94-d7ed-6efa99f2565a"
      },
      "outputs": [
        {
          "output_type": "execute_result",
          "data": {
            "text/plain": [
              "activation: gelu\n",
              "batch_invariant: true\n",
              "batch_size: 128\n",
              "btcvae_beta: 1\n",
              "dataset_size: null\n",
              "decoder_first_batch_norm: false\n",
              "decoder_first_use_bias: true\n",
              "device: cpu\n",
              "end: 1.0\n",
              "end_epoch: 1\n",
              "epochs: 200\n",
              "fixed_curvature: true\n",
              "gain: 1.0\n",
              "h_dim: 32\n",
              "hsic_weight: 1000\n",
              "ignore_mask: false\n",
              "ignore_z1_mask: false\n",
              "init: custom\n",
              "learning_rate: 0.001\n",
              "mask_z2: false\n",
              "max_epochs: 500\n",
              "model_name: r2, e10\n",
              "n_batch:\n",
              "- 1\n",
              "print_batch: false\n",
              "print_batch_1: false\n",
              "print_batch_2: false\n",
              "print_batch_3: false\n",
              "print_concat_z: false\n",
              "reconstruction_term_weight: 1\n",
              "scalar_parametrization: false\n",
              "second_weight: 1\n",
              "seed: 26\n",
              "specific_gene_weight: null\n",
              "start: 1.0\n",
              "use_adamw: true\n",
              "use_average_hsic: false\n",
              "use_batch_norm: false\n",
              "use_bias: true\n",
              "use_btcvae: false\n",
              "use_hsic: false\n",
              "use_poincare_z1: false\n",
              "use_relu: false\n",
              "use_z1_train: false\n",
              "use_z2_batch_only: false\n",
              "use_z2_no_grad: false\n",
              "use_z2_train: false\n",
              "weight_decay: null\n",
              "z1_x2_ffn: []\n",
              "zero_batch: false"
            ]
          },
          "metadata": {},
          "execution_count": 48
        }
      ],
      "source": [
        "config"
      ]
    },
    {
      "cell_type": "code",
      "execution_count": null,
      "metadata": {
        "id": "z33JDijriiYC",
        "colab": {
          "base_uri": "https://localhost:8080/",
          "height": 1000
        },
        "outputId": "2e311a37-d18b-4ea0-ea86-6a7df27aaf3c"
      },
      "outputs": [
        {
          "output_type": "stream",
          "name": "stdout",
          "text": [
            "26\n",
            "self.use_btcvae: False\n",
            "self.btcvae_beta: 1\n",
            "self.dataset_size: None\n",
            "[1] in vae.py\n",
            "Not using relu in forward() and log_likelihood().\n",
            "Commented out the normalization step in forward() and log_likelihood().\n",
            "self.num_gene: tensor([ 174, 4371])\n",
            "self.activation: gelu\n",
            "use_hsic: False\n",
            "hsic_weight: 1000\n",
            "[1] in nb_vae.py\n",
            "batch_invariant: True\n",
            "total_num_of_batches: 1\n",
            "self.activation: gelu\n",
            "self.in_dim: 4545\n",
            "input_dim: 4545\n",
            "output_dim: 4545\n",
            "Linear(in_features=32, out_features=2, bias=True)\n",
            "initializing Xavier uniform weights in Linear\n",
            "Linear(in_features=32, out_features=2, bias=True)\n",
            "initializing Xavier uniform weights in Linear\n",
            "RotatedHyperbolicComponent(R^3)\n",
            "\tTrainEpoch 0:\t{'bce': -4098.301809436491, 'kl': 7.3769555501887805, 'elbo': -4105.678764986679, 'll': 0.0, 'mi': 0.0, 'cov_norm': 0.0, 'beta': 1.0, 'comp_000_r2/curvature': -2.0000000000000004, 'comp_001_e10/curvature': 0.0}\n",
            "\tTrainEpoch 1:\t{'bce': -3410.122052066924, 'kl': 53.722419037021126, 'elbo': -3463.8444711039456, 'll': 0.0, 'mi': 0.0, 'cov_norm': 0.0, 'beta': 1.0, 'comp_000_r2/curvature': -2.0000000000000004, 'comp_001_e10/curvature': 0.0}\n",
            "\tTrainEpoch 2:\t{'bce': -3110.0391477186304, 'kl': 22.801095880215676, 'elbo': -3132.840243598846, 'll': 0.0, 'mi': 0.0, 'cov_norm': 0.0, 'beta': 1.0, 'comp_000_r2/curvature': -2.0000000000000004, 'comp_001_e10/curvature': 0.0}\n",
            "\tTrainEpoch 3:\t{'bce': -2973.7360736664705, 'kl': 15.032768459399817, 'elbo': -2988.768842125871, 'll': 0.0, 'mi': 0.0, 'cov_norm': 0.0, 'beta': 1.0, 'comp_000_r2/curvature': -2.0000000000000004, 'comp_001_e10/curvature': 0.0}\n",
            "\tTrainEpoch 4:\t{'bce': -2902.248170463261, 'kl': 12.678220962513054, 'elbo': -2914.926391425774, 'll': 0.0, 'mi': 0.0, 'cov_norm': 0.0, 'beta': 1.0, 'comp_000_r2/curvature': -2.0000000000000004, 'comp_001_e10/curvature': 0.0}\n",
            "\tTrainEpoch 5:\t{'bce': -2852.3200986539837, 'kl': 12.507650862234135, 'elbo': -2864.8277495162183, 'll': 0.0, 'mi': 0.0, 'cov_norm': 0.0, 'beta': 1.0, 'comp_000_r2/curvature': -2.0000000000000004, 'comp_001_e10/curvature': 0.0}\n",
            "\tTrainEpoch 6:\t{'bce': -2828.0174785764584, 'kl': 11.896889568887875, 'elbo': -2839.9143681453456, 'll': 0.0, 'mi': 0.0, 'cov_norm': 0.0, 'beta': 1.0, 'comp_000_r2/curvature': -2.0000000000000004, 'comp_001_e10/curvature': 0.0}\n",
            "\tTrainEpoch 7:\t{'bce': -2813.76152384251, 'kl': 11.562474785339976, 'elbo': -2825.3239986278504, 'll': 0.0, 'mi': 0.0, 'cov_norm': 0.0, 'beta': 1.0, 'comp_000_r2/curvature': -2.0000000000000004, 'comp_001_e10/curvature': 0.0}\n",
            "\tTrainEpoch 8:\t{'bce': -2803.3407411138123, 'kl': 11.589199270915513, 'elbo': -2814.9299403847276, 'll': 0.0, 'mi': 0.0, 'cov_norm': 0.0, 'beta': 1.0, 'comp_000_r2/curvature': -2.0000000000000004, 'comp_001_e10/curvature': 0.0}\n",
            "\tTrainEpoch 9:\t{'bce': -2796.847818142037, 'kl': 11.142748972406286, 'elbo': -2807.9905671144434, 'll': 0.0, 'mi': 0.0, 'cov_norm': 0.0, 'beta': 1.0, 'comp_000_r2/curvature': -2.0000000000000004, 'comp_001_e10/curvature': 0.0}\n",
            "\tTrainEpoch 10:\t{'bce': -2792.450589132322, 'kl': 10.569244055414728, 'elbo': -2803.019833187737, 'll': 0.0, 'mi': 0.0, 'cov_norm': 0.0, 'beta': 1.0, 'comp_000_r2/curvature': -2.0000000000000004, 'comp_001_e10/curvature': 0.0}\n",
            "\tTrainEpoch 11:\t{'bce': -2789.4975316656255, 'kl': 10.462471206973346, 'elbo': -2799.9600028725986, 'll': 0.0, 'mi': 0.0, 'cov_norm': 0.0, 'beta': 1.0, 'comp_000_r2/curvature': -2.0000000000000004, 'comp_001_e10/curvature': 0.0}\n",
            "\tTrainEpoch 12:\t{'bce': -2786.988580074224, 'kl': 9.899908717706902, 'elbo': -2796.888488791931, 'll': 0.0, 'mi': 0.0, 'cov_norm': 0.0, 'beta': 1.0, 'comp_000_r2/curvature': -2.0000000000000004, 'comp_001_e10/curvature': 0.0}\n",
            "\tTrainEpoch 13:\t{'bce': -2784.7413693462, 'kl': 9.659734558377405, 'elbo': -2794.401103904577, 'll': 0.0, 'mi': 0.0, 'cov_norm': 0.0, 'beta': 1.0, 'comp_000_r2/curvature': -2.0000000000000004, 'comp_001_e10/curvature': 0.0}\n",
            "\tTrainEpoch 14:\t{'bce': -2783.1881114898797, 'kl': 9.505820630542857, 'elbo': -2792.6939321204227, 'll': 0.0, 'mi': 0.0, 'cov_norm': 0.0, 'beta': 1.0, 'comp_000_r2/curvature': -2.0000000000000004, 'comp_001_e10/curvature': 0.0}\n",
            "\tTrainEpoch 15:\t{'bce': -2782.42169808116, 'kl': 9.11184259406002, 'elbo': -2791.5335406752192, 'll': 0.0, 'mi': 0.0, 'cov_norm': 0.0, 'beta': 1.0, 'comp_000_r2/curvature': -2.0000000000000004, 'comp_001_e10/curvature': 0.0}\n",
            "\tTrainEpoch 16:\t{'bce': -2781.870725741151, 'kl': 8.663304611404731, 'elbo': -2790.5340303525563, 'll': 0.0, 'mi': 0.0, 'cov_norm': 0.0, 'beta': 1.0, 'comp_000_r2/curvature': -2.0000000000000004, 'comp_001_e10/curvature': 0.0}\n",
            "\tTrainEpoch 17:\t{'bce': -2780.562485414028, 'kl': 8.70896827810599, 'elbo': -2789.2714536921344, 'll': 0.0, 'mi': 0.0, 'cov_norm': 0.0, 'beta': 1.0, 'comp_000_r2/curvature': -2.0000000000000004, 'comp_001_e10/curvature': 0.0}\n",
            "\tTrainEpoch 18:\t{'bce': -2779.677119857399, 'kl': 8.566868516221604, 'elbo': -2788.2439883736197, 'll': 0.0, 'mi': 0.0, 'cov_norm': 0.0, 'beta': 1.0, 'comp_000_r2/curvature': -2.0000000000000004, 'comp_001_e10/curvature': 0.0}\n",
            "\tTrainEpoch 19:\t{'bce': -2779.7395054912117, 'kl': 8.120918177615643, 'elbo': -2787.8604236688275, 'll': 0.0, 'mi': 0.0, 'cov_norm': 0.0, 'beta': 1.0, 'comp_000_r2/curvature': -2.0000000000000004, 'comp_001_e10/curvature': 0.0}\n",
            "\tTrainEpoch 20:\t{'bce': -2778.8486472953705, 'kl': 7.990464641222951, 'elbo': -2786.8391119365933, 'll': 0.0, 'mi': 0.0, 'cov_norm': 0.0, 'beta': 1.0, 'comp_000_r2/curvature': -2.0000000000000004, 'comp_001_e10/curvature': 0.0}\n",
            "\tTrainEpoch 21:\t{'bce': -2778.436020530298, 'kl': 7.969001457567003, 'elbo': -2786.405021987864, 'll': 0.0, 'mi': 0.0, 'cov_norm': 0.0, 'beta': 1.0, 'comp_000_r2/curvature': -2.0000000000000004, 'comp_001_e10/curvature': 0.0}\n",
            "\tTrainEpoch 22:\t{'bce': -2777.6327522242964, 'kl': 7.954791810841131, 'elbo': -2785.5875440351374, 'll': 0.0, 'mi': 0.0, 'cov_norm': 0.0, 'beta': 1.0, 'comp_000_r2/curvature': -2.0000000000000004, 'comp_001_e10/curvature': 0.0}\n",
            "\tTrainEpoch 23:\t{'bce': -2776.884449864158, 'kl': 7.72568246726649, 'elbo': -2784.610132331424, 'll': 0.0, 'mi': 0.0, 'cov_norm': 0.0, 'beta': 1.0, 'comp_000_r2/curvature': -2.0000000000000004, 'comp_001_e10/curvature': 0.0}\n",
            "\tTrainEpoch 24:\t{'bce': -2775.9768325037517, 'kl': 7.388491349647514, 'elbo': -2783.365323853399, 'll': 0.0, 'mi': 0.0, 'cov_norm': 0.0, 'beta': 1.0, 'comp_000_r2/curvature': -2.0000000000000004, 'comp_001_e10/curvature': 0.0}\n",
            "\tTrainEpoch 25:\t{'bce': -2775.847774285958, 'kl': 7.285134062787732, 'elbo': -2783.1329083487462, 'll': 0.0, 'mi': 0.0, 'cov_norm': 0.0, 'beta': 1.0, 'comp_000_r2/curvature': -2.0000000000000004, 'comp_001_e10/curvature': 0.0}\n",
            "\tTrainEpoch 26:\t{'bce': -2774.0301981921434, 'kl': 7.583068726822269, 'elbo': -2781.613266918965, 'll': 0.0, 'mi': 0.0, 'cov_norm': 0.0, 'beta': 1.0, 'comp_000_r2/curvature': -2.0000000000000004, 'comp_001_e10/curvature': 0.0}\n",
            "\tTrainEpoch 27:\t{'bce': -2772.8982159428388, 'kl': 7.353606384995677, 'elbo': -2780.2518223278344, 'll': 0.0, 'mi': 0.0, 'cov_norm': 0.0, 'beta': 1.0, 'comp_000_r2/curvature': -2.0000000000000004, 'comp_001_e10/curvature': 0.0}\n",
            "\tTrainEpoch 28:\t{'bce': -2771.9942216633517, 'kl': 7.367628257164345, 'elbo': -2779.361849920516, 'll': 0.0, 'mi': 0.0, 'cov_norm': 0.0, 'beta': 1.0, 'comp_000_r2/curvature': -2.0000000000000004, 'comp_001_e10/curvature': 0.0}\n",
            "\tTrainEpoch 29:\t{'bce': -2769.6891868913785, 'kl': 7.12031619315393, 'elbo': -2776.8095030845325, 'll': 0.0, 'mi': 0.0, 'cov_norm': 0.0, 'beta': 1.0, 'comp_000_r2/curvature': -2.0000000000000004, 'comp_001_e10/curvature': 0.0}\n",
            "\tTrainEpoch 30:\t{'bce': -2767.030030568173, 'kl': 7.293889954502539, 'elbo': -2774.3239205226755, 'll': 0.0, 'mi': 0.0, 'cov_norm': 0.0, 'beta': 1.0, 'comp_000_r2/curvature': -2.0000000000000004, 'comp_001_e10/curvature': 0.0}\n",
            "\tTrainEpoch 31:\t{'bce': -2764.973191776917, 'kl': 7.230780957435097, 'elbo': -2772.203972734352, 'll': 0.0, 'mi': 0.0, 'cov_norm': 0.0, 'beta': 1.0, 'comp_000_r2/curvature': -2.0000000000000004, 'comp_001_e10/curvature': 0.0}\n",
            "\tTrainEpoch 32:\t{'bce': -2764.057926176846, 'kl': 7.323438750033316, 'elbo': -2771.3813649268805, 'll': 0.0, 'mi': 0.0, 'cov_norm': 0.0, 'beta': 1.0, 'comp_000_r2/curvature': -2.0000000000000004, 'comp_001_e10/curvature': 0.0}\n",
            "\tTrainEpoch 33:\t{'bce': -2761.2551518614628, 'kl': 7.131302232162247, 'elbo': -2768.3864540936243, 'll': 0.0, 'mi': 0.0, 'cov_norm': 0.0, 'beta': 1.0, 'comp_000_r2/curvature': -2.0000000000000004, 'comp_001_e10/curvature': 0.0}\n",
            "\tTrainEpoch 34:\t{'bce': -2758.995931146747, 'kl': 7.244064003611617, 'elbo': -2766.239995150359, 'll': 0.0, 'mi': 0.0, 'cov_norm': 0.0, 'beta': 1.0, 'comp_000_r2/curvature': -2.0000000000000004, 'comp_001_e10/curvature': 0.0}\n",
            "\tTrainEpoch 35:\t{'bce': -2757.4883632254496, 'kl': 7.207574286631364, 'elbo': -2764.695937512081, 'll': 0.0, 'mi': 0.0, 'cov_norm': 0.0, 'beta': 1.0, 'comp_000_r2/curvature': -2.0000000000000004, 'comp_001_e10/curvature': 0.0}\n",
            "\tTrainEpoch 36:\t{'bce': -2755.7878699523935, 'kl': 7.2839600674543, 'elbo': -2763.0718300198478, 'll': 0.0, 'mi': 0.0, 'cov_norm': 0.0, 'beta': 1.0, 'comp_000_r2/curvature': -2.0000000000000004, 'comp_001_e10/curvature': 0.0}\n",
            "\tTrainEpoch 37:\t{'bce': -2754.3391953198784, 'kl': 7.4133742770606395, 'elbo': -2761.752569596939, 'll': 0.0, 'mi': 0.0, 'cov_norm': 0.0, 'beta': 1.0, 'comp_000_r2/curvature': -2.0000000000000004, 'comp_001_e10/curvature': 0.0}\n",
            "\tTrainEpoch 38:\t{'bce': -2753.8191353941766, 'kl': 7.240044191279515, 'elbo': -2761.059179585456, 'll': 0.0, 'mi': 0.0, 'cov_norm': 0.0, 'beta': 1.0, 'comp_000_r2/curvature': -2.0000000000000004, 'comp_001_e10/curvature': 0.0}\n",
            "\tTrainEpoch 39:\t{'bce': -2752.5065772955563, 'kl': 7.101463121965609, 'elbo': -2759.608040417522, 'll': 0.0, 'mi': 0.0, 'cov_norm': 0.0, 'beta': 1.0, 'comp_000_r2/curvature': -2.0000000000000004, 'comp_001_e10/curvature': 0.0}\n",
            "\tTrainEpoch 40:\t{'bce': -2751.3476458815176, 'kl': 7.342370277598382, 'elbo': -2758.690016159115, 'll': 0.0, 'mi': 0.0, 'cov_norm': 0.0, 'beta': 1.0, 'comp_000_r2/curvature': -2.0000000000000004, 'comp_001_e10/curvature': 0.0}\n",
            "\tTrainEpoch 41:\t{'bce': -2749.7841608869708, 'kl': 7.361171667619185, 'elbo': -2757.14533255459, 'll': 0.0, 'mi': 0.0, 'cov_norm': 0.0, 'beta': 1.0, 'comp_000_r2/curvature': -2.0000000000000004, 'comp_001_e10/curvature': 0.0}\n",
            "\tTrainEpoch 42:\t{'bce': -2748.7386122982884, 'kl': 7.353908823005337, 'elbo': -2756.092521121294, 'll': 0.0, 'mi': 0.0, 'cov_norm': 0.0, 'beta': 1.0, 'comp_000_r2/curvature': -2.0000000000000004, 'comp_001_e10/curvature': 0.0}\n",
            "\tTrainEpoch 43:\t{'bce': -2747.5598489972313, 'kl': 7.3624455711703405, 'elbo': -2754.9222945684014, 'll': 0.0, 'mi': 0.0, 'cov_norm': 0.0, 'beta': 1.0, 'comp_000_r2/curvature': -2.0000000000000004, 'comp_001_e10/curvature': 0.0}\n",
            "\tTrainEpoch 44:\t{'bce': -2746.832565999184, 'kl': 7.392208915618992, 'elbo': -2754.224774914803, 'll': 0.0, 'mi': 0.0, 'cov_norm': 0.0, 'beta': 1.0, 'comp_000_r2/curvature': -2.0000000000000004, 'comp_001_e10/curvature': 0.0}\n",
            "\tTrainEpoch 45:\t{'bce': -2745.8934909830873, 'kl': 7.4573908925674575, 'elbo': -2753.3508818756545, 'll': 0.0, 'mi': 0.0, 'cov_norm': 0.0, 'beta': 1.0, 'comp_000_r2/curvature': -2.0000000000000004, 'comp_001_e10/curvature': 0.0}\n",
            "\tTrainEpoch 46:\t{'bce': -2744.7293996641583, 'kl': 7.58852235246999, 'elbo': -2752.317922016629, 'll': 0.0, 'mi': 0.0, 'cov_norm': 0.0, 'beta': 1.0, 'comp_000_r2/curvature': -2.0000000000000004, 'comp_001_e10/curvature': 0.0}\n",
            "\tTrainEpoch 47:\t{'bce': -2744.006000162534, 'kl': 7.5895528416246885, 'elbo': -2751.595553004159, 'll': 0.0, 'mi': 0.0, 'cov_norm': 0.0, 'beta': 1.0, 'comp_000_r2/curvature': -2.0000000000000004, 'comp_001_e10/curvature': 0.0}\n",
            "\tTrainEpoch 48:\t{'bce': -2743.353048853075, 'kl': 7.519364501191025, 'elbo': -2750.8724133542655, 'll': 0.0, 'mi': 0.0, 'cov_norm': 0.0, 'beta': 1.0, 'comp_000_r2/curvature': -2.0000000000000004, 'comp_001_e10/curvature': 0.0}\n",
            "\tTrainEpoch 49:\t{'bce': -2742.695354415243, 'kl': 7.397925069540451, 'elbo': -2750.093279484783, 'll': 0.0, 'mi': 0.0, 'cov_norm': 0.0, 'beta': 1.0, 'comp_000_r2/curvature': -2.0000000000000004, 'comp_001_e10/curvature': 0.0}\n",
            "\tTrainEpoch 50:\t{'bce': -2742.0408019348397, 'kl': 7.407434381345697, 'elbo': -2749.448236316185, 'll': 0.0, 'mi': 0.0, 'cov_norm': 0.0, 'beta': 1.0, 'comp_000_r2/curvature': -2.0000000000000004, 'comp_001_e10/curvature': 0.0}\n",
            "\tTrainEpoch 51:\t{'bce': -2741.7372997208413, 'kl': 7.31626366861651, 'elbo': -2749.0535633894583, 'll': 0.0, 'mi': 0.0, 'cov_norm': 0.0, 'beta': 1.0, 'comp_000_r2/curvature': -2.0000000000000004, 'comp_001_e10/curvature': 0.0}\n",
            "\tTrainEpoch 52:\t{'bce': -2740.947151834934, 'kl': 7.262097968666772, 'elbo': -2748.209249803602, 'll': 0.0, 'mi': 0.0, 'cov_norm': 0.0, 'beta': 1.0, 'comp_000_r2/curvature': -2.0000000000000004, 'comp_001_e10/curvature': 0.0}\n",
            "\tTrainEpoch 53:\t{'bce': -2740.440101316036, 'kl': 7.4290157747615115, 'elbo': -2747.8691170907978, 'll': 0.0, 'mi': 0.0, 'cov_norm': 0.0, 'beta': 1.0, 'comp_000_r2/curvature': -2.0000000000000004, 'comp_001_e10/curvature': 0.0}\n",
            "\tTrainEpoch 54:\t{'bce': -2740.3871980021268, 'kl': 7.265203128104673, 'elbo': -2747.6524011302313, 'll': 0.0, 'mi': 0.0, 'cov_norm': 0.0, 'beta': 1.0, 'comp_000_r2/curvature': -2.0000000000000004, 'comp_001_e10/curvature': 0.0}\n",
            "\tTrainEpoch 55:\t{'bce': -2740.2280926569656, 'kl': 7.224882578255679, 'elbo': -2747.452975235221, 'll': 0.0, 'mi': 0.0, 'cov_norm': 0.0, 'beta': 1.0, 'comp_000_r2/curvature': -2.0000000000000004, 'comp_001_e10/curvature': 0.0}\n",
            "\tTrainEpoch 56:\t{'bce': -2739.239440801148, 'kl': 7.502875795257143, 'elbo': -2746.7423165964046, 'll': 0.0, 'mi': 0.0, 'cov_norm': 0.0, 'beta': 1.0, 'comp_000_r2/curvature': -2.0000000000000004, 'comp_001_e10/curvature': 0.0}\n",
            "\tTrainEpoch 57:\t{'bce': -2738.7511579230622, 'kl': 7.290977783221743, 'elbo': -2746.0421357062833, 'll': 0.0, 'mi': 0.0, 'cov_norm': 0.0, 'beta': 1.0, 'comp_000_r2/curvature': -2.0000000000000004, 'comp_001_e10/curvature': 0.0}\n",
            "\tTrainEpoch 58:\t{'bce': -2738.2351632633818, 'kl': 7.228998702693269, 'elbo': -2745.4641619660747, 'll': 0.0, 'mi': 0.0, 'cov_norm': 0.0, 'beta': 1.0, 'comp_000_r2/curvature': -2.0000000000000004, 'comp_001_e10/curvature': 0.0}\n",
            "\tTrainEpoch 59:\t{'bce': -2738.304256534256, 'kl': 7.260133567313053, 'elbo': -2745.564390101569, 'll': 0.0, 'mi': 0.0, 'cov_norm': 0.0, 'beta': 1.0, 'comp_000_r2/curvature': -2.0000000000000004, 'comp_001_e10/curvature': 0.0}\n",
            "\tTrainEpoch 60:\t{'bce': -2738.068905281517, 'kl': 7.215420050978058, 'elbo': -2745.2843253324954, 'll': 0.0, 'mi': 0.0, 'cov_norm': 0.0, 'beta': 1.0, 'comp_000_r2/curvature': -2.0000000000000004, 'comp_001_e10/curvature': 0.0}\n",
            "\tTrainEpoch 61:\t{'bce': -2737.4886782162366, 'kl': 7.204832537547129, 'elbo': -2744.693510753784, 'll': 0.0, 'mi': 0.0, 'cov_norm': 0.0, 'beta': 1.0, 'comp_000_r2/curvature': -2.0000000000000004, 'comp_001_e10/curvature': 0.0}\n",
            "\tTrainEpoch 62:\t{'bce': -2737.038591202036, 'kl': 7.197249555731012, 'elbo': -2744.2358407577667, 'll': 0.0, 'mi': 0.0, 'cov_norm': 0.0, 'beta': 1.0, 'comp_000_r2/curvature': -2.0000000000000004, 'comp_001_e10/curvature': 0.0}\n",
            "\tTrainEpoch 63:\t{'bce': -2736.7721920987733, 'kl': 7.065536367570918, 'elbo': -2743.8377284663447, 'll': 0.0, 'mi': 0.0, 'cov_norm': 0.0, 'beta': 1.0, 'comp_000_r2/curvature': -2.0000000000000004, 'comp_001_e10/curvature': 0.0}\n",
            "\tTrainEpoch 64:\t{'bce': -2736.4531703776333, 'kl': 7.27617438428627, 'elbo': -2743.7293447619186, 'll': 0.0, 'mi': 0.0, 'cov_norm': 0.0, 'beta': 1.0, 'comp_000_r2/curvature': -2.0000000000000004, 'comp_001_e10/curvature': 0.0}\n",
            "\tTrainEpoch 65:\t{'bce': -2736.014489346861, 'kl': 7.271833738348805, 'elbo': -2743.28632308521, 'll': 0.0, 'mi': 0.0, 'cov_norm': 0.0, 'beta': 1.0, 'comp_000_r2/curvature': -2.0000000000000004, 'comp_001_e10/curvature': 0.0}\n",
            "\tTrainEpoch 66:\t{'bce': -2735.524616461512, 'kl': 7.169997552647775, 'elbo': -2742.6946140141604, 'll': 0.0, 'mi': 0.0, 'cov_norm': 0.0, 'beta': 1.0, 'comp_000_r2/curvature': -2.0000000000000004, 'comp_001_e10/curvature': 0.0}\n",
            "\tTrainEpoch 67:\t{'bce': -2736.384680318176, 'kl': 7.1551657566977545, 'elbo': -2743.5398460748734, 'll': 0.0, 'mi': 0.0, 'cov_norm': 0.0, 'beta': 1.0, 'comp_000_r2/curvature': -2.0000000000000004, 'comp_001_e10/curvature': 0.0}\n",
            "\tTrainEpoch 68:\t{'bce': -2735.7608718558367, 'kl': 7.047495529796162, 'elbo': -2742.808367385632, 'll': 0.0, 'mi': 0.0, 'cov_norm': 0.0, 'beta': 1.0, 'comp_000_r2/curvature': -2.0000000000000004, 'comp_001_e10/curvature': 0.0}\n",
            "\tTrainEpoch 69:\t{'bce': -2734.6654136918405, 'kl': 7.240748504646651, 'elbo': -2741.9061621964865, 'll': 0.0, 'mi': 0.0, 'cov_norm': 0.0, 'beta': 1.0, 'comp_000_r2/curvature': -2.0000000000000004, 'comp_001_e10/curvature': 0.0}\n",
            "\tTrainEpoch 70:\t{'bce': -2733.934214564963, 'kl': 7.2136383798964046, 'elbo': -2741.147852944859, 'll': 0.0, 'mi': 0.0, 'cov_norm': 0.0, 'beta': 1.0, 'comp_000_r2/curvature': -2.0000000000000004, 'comp_001_e10/curvature': 0.0}\n",
            "\tTrainEpoch 71:\t{'bce': -2733.673184208137, 'kl': 7.181826223172525, 'elbo': -2740.85501043131, 'll': 0.0, 'mi': 0.0, 'cov_norm': 0.0, 'beta': 1.0, 'comp_000_r2/curvature': -2.0000000000000004, 'comp_001_e10/curvature': 0.0}\n",
            "\tTrainEpoch 72:\t{'bce': -2733.0797286630936, 'kl': 7.192803506624952, 'elbo': -2740.272532169718, 'll': 0.0, 'mi': 0.0, 'cov_norm': 0.0, 'beta': 1.0, 'comp_000_r2/curvature': -2.0000000000000004, 'comp_001_e10/curvature': 0.0}\n",
            "\tTrainEpoch 73:\t{'bce': -2732.8889840884267, 'kl': 7.366687226123905, 'elbo': -2740.2556713145505, 'll': 0.0, 'mi': 0.0, 'cov_norm': 0.0, 'beta': 1.0, 'comp_000_r2/curvature': -2.0000000000000004, 'comp_001_e10/curvature': 0.0}\n",
            "\tTrainEpoch 74:\t{'bce': -2732.032535666288, 'kl': 7.408632886681652, 'elbo': -2739.4411685529694, 'll': 0.0, 'mi': 0.0, 'cov_norm': 0.0, 'beta': 1.0, 'comp_000_r2/curvature': -2.0000000000000004, 'comp_001_e10/curvature': 0.0}\n",
            "\tTrainEpoch 75:\t{'bce': -2732.0173253175067, 'kl': 7.2879451969639355, 'elbo': -2739.3052705144705, 'll': 0.0, 'mi': 0.0, 'cov_norm': 0.0, 'beta': 1.0, 'comp_000_r2/curvature': -2.0000000000000004, 'comp_001_e10/curvature': 0.0}\n",
            "\tTrainEpoch 76:\t{'bce': -2731.619132375658, 'kl': 7.25965878088156, 'elbo': -2738.87879115654, 'll': 0.0, 'mi': 0.0, 'cov_norm': 0.0, 'beta': 1.0, 'comp_000_r2/curvature': -2.0000000000000004, 'comp_001_e10/curvature': 0.0}\n",
            "\tTrainEpoch 77:\t{'bce': -2731.696113003307, 'kl': 7.3805450536603345, 'elbo': -2739.0766580569675, 'll': 0.0, 'mi': 0.0, 'cov_norm': 0.0, 'beta': 1.0, 'comp_000_r2/curvature': -2.0000000000000004, 'comp_001_e10/curvature': 0.0}\n",
            "\tTrainEpoch 78:\t{'bce': -2730.943208728228, 'kl': 7.36479572780143, 'elbo': -2738.3080044560293, 'll': 0.0, 'mi': 0.0, 'cov_norm': 0.0, 'beta': 1.0, 'comp_000_r2/curvature': -2.0000000000000004, 'comp_001_e10/curvature': 0.0}\n",
            "\tTrainEpoch 79:\t{'bce': -2729.4353902025828, 'kl': 7.552113075153803, 'elbo': -2736.987503277737, 'll': 0.0, 'mi': 0.0, 'cov_norm': 0.0, 'beta': 1.0, 'comp_000_r2/curvature': -2.0000000000000004, 'comp_001_e10/curvature': 0.0}\n",
            "\tTrainEpoch 80:\t{'bce': -2729.1612509045945, 'kl': 7.335578780448756, 'elbo': -2736.4968296850425, 'll': 0.0, 'mi': 0.0, 'cov_norm': 0.0, 'beta': 1.0, 'comp_000_r2/curvature': -2.0000000000000004, 'comp_001_e10/curvature': 0.0}\n",
            "\tTrainEpoch 81:\t{'bce': -2727.9759474730968, 'kl': 7.5519779433513285, 'elbo': -2735.5279254164484, 'll': 0.0, 'mi': 0.0, 'cov_norm': 0.0, 'beta': 1.0, 'comp_000_r2/curvature': -2.0000000000000004, 'comp_001_e10/curvature': 0.0}\n",
            "\tTrainEpoch 82:\t{'bce': -2727.816711735419, 'kl': 7.63693952160572, 'elbo': -2735.453651257025, 'll': 0.0, 'mi': 0.0, 'cov_norm': 0.0, 'beta': 1.0, 'comp_000_r2/curvature': -2.0000000000000004, 'comp_001_e10/curvature': 0.0}\n",
            "\tTrainEpoch 83:\t{'bce': -2727.153231790008, 'kl': 7.638850437662385, 'elbo': -2734.7920822276706, 'll': 0.0, 'mi': 0.0, 'cov_norm': 0.0, 'beta': 1.0, 'comp_000_r2/curvature': -2.0000000000000004, 'comp_001_e10/curvature': 0.0}\n",
            "\tTrainEpoch 84:\t{'bce': -2726.258644171299, 'kl': 7.75848363410701, 'elbo': -2734.0171278054054, 'll': 0.0, 'mi': 0.0, 'cov_norm': 0.0, 'beta': 1.0, 'comp_000_r2/curvature': -2.0000000000000004, 'comp_001_e10/curvature': 0.0}\n",
            "\tTrainEpoch 85:\t{'bce': -2725.6627053989746, 'kl': 7.6567516352215685, 'elbo': -2733.319457034196, 'll': 0.0, 'mi': 0.0, 'cov_norm': 0.0, 'beta': 1.0, 'comp_000_r2/curvature': -2.0000000000000004, 'comp_001_e10/curvature': 0.0}\n",
            "\tTrainEpoch 86:\t{'bce': -2724.927972742305, 'kl': 7.693947395603826, 'elbo': -2732.621920137909, 'll': 0.0, 'mi': 0.0, 'cov_norm': 0.0, 'beta': 1.0, 'comp_000_r2/curvature': -2.0000000000000004, 'comp_001_e10/curvature': 0.0}\n",
            "\tTrainEpoch 87:\t{'bce': -2724.626310769499, 'kl': 7.750819968631415, 'elbo': -2732.3771307381303, 'll': 0.0, 'mi': 0.0, 'cov_norm': 0.0, 'beta': 1.0, 'comp_000_r2/curvature': -2.0000000000000004, 'comp_001_e10/curvature': 0.0}\n",
            "\tTrainEpoch 88:\t"
          ]
        },
        {
          "output_type": "error",
          "ename": "KeyboardInterrupt",
          "evalue": "",
          "traceback": [
            "\u001b[0;31m---------------------------------------------------------------------------\u001b[0m",
            "\u001b[0;31mKeyboardInterrupt\u001b[0m                         Traceback (most recent call last)",
            "\u001b[0;32m<ipython-input-49-4f5e50743c58>\u001b[0m in \u001b[0;36m<cell line: 37>\u001b[0;34m()\u001b[0m\n\u001b[1;32m     35\u001b[0m                            epochs=config.epochs)\n\u001b[1;32m     36\u001b[0m \u001b[0;34m\u001b[0m\u001b[0m\n\u001b[0;32m---> 37\u001b[0;31m trainer.train_epochs(optimizer=optimizer,\n\u001b[0m\u001b[1;32m     38\u001b[0m                        \u001b[0mtrain_data\u001b[0m\u001b[0;34m=\u001b[0m\u001b[0mtrain_loader\u001b[0m\u001b[0;34m,\u001b[0m\u001b[0;34m\u001b[0m\u001b[0;34m\u001b[0m\u001b[0m\n\u001b[1;32m     39\u001b[0m                        \u001b[0;31m# eval_data=test_loader,\u001b[0m\u001b[0;34m\u001b[0m\u001b[0;34m\u001b[0m\u001b[0m\n",
            "\u001b[0;32m/content/scrna_mvae/mt/mvae/models/train.py\u001b[0m in \u001b[0;36mtrain_epochs\u001b[0;34m(self, optimizer, train_data, betas, likelihood_n, max_epochs, visualize_information)\u001b[0m\n\u001b[1;32m    138\u001b[0m         \u001b[0;32mfor\u001b[0m \u001b[0m_\u001b[0m \u001b[0;32min\u001b[0m \u001b[0mrange\u001b[0m\u001b[0;34m(\u001b[0m\u001b[0mmax_epochs\u001b[0m\u001b[0;34m)\u001b[0m\u001b[0;34m:\u001b[0m\u001b[0;34m\u001b[0m\u001b[0;34m\u001b[0m\u001b[0m\n\u001b[1;32m    139\u001b[0m             \u001b[0mbeta\u001b[0m \u001b[0;34m=\u001b[0m \u001b[0mself\u001b[0m\u001b[0;34m.\u001b[0m\u001b[0mget_beta\u001b[0m\u001b[0;34m(\u001b[0m\u001b[0mbetas\u001b[0m\u001b[0;34m)\u001b[0m\u001b[0;34m\u001b[0m\u001b[0;34m\u001b[0m\u001b[0m\n\u001b[0;32m--> 140\u001b[0;31m             \u001b[0mtrain_results\u001b[0m\u001b[0;34m[\u001b[0m\u001b[0mself\u001b[0m\u001b[0;34m.\u001b[0m\u001b[0mepoch\u001b[0m\u001b[0;34m]\u001b[0m \u001b[0;34m=\u001b[0m \u001b[0mself\u001b[0m\u001b[0;34m.\u001b[0m\u001b[0m_train_epoch\u001b[0m\u001b[0;34m(\u001b[0m\u001b[0moptimizer\u001b[0m\u001b[0;34m,\u001b[0m \u001b[0mtrain_data\u001b[0m\u001b[0;34m,\u001b[0m \u001b[0mbeta\u001b[0m\u001b[0;34m=\u001b[0m\u001b[0mbeta\u001b[0m\u001b[0;34m)\u001b[0m\u001b[0;34m\u001b[0m\u001b[0;34m\u001b[0m\u001b[0m\n\u001b[0m\u001b[1;32m    141\u001b[0m             \u001b[0;31m# self._update_checkpoints(lookahead)\u001b[0m\u001b[0;34m\u001b[0m\u001b[0;34m\u001b[0m\u001b[0m\n\u001b[1;32m    142\u001b[0m             \u001b[0mself\u001b[0m\u001b[0;34m.\u001b[0m\u001b[0mepoch\u001b[0m \u001b[0;34m+=\u001b[0m \u001b[0;36m1\u001b[0m\u001b[0;34m\u001b[0m\u001b[0;34m\u001b[0m\u001b[0m\n",
            "\u001b[0;32m/content/scrna_mvae/mt/mvae/models/train.py\u001b[0m in \u001b[0;36m_train_epoch\u001b[0;34m(self, optimizer, train_data, beta)\u001b[0m\n\u001b[1;32m    240\u001b[0m         \u001b[0mbatch_stats\u001b[0m \u001b[0;34m=\u001b[0m \u001b[0;34m[\u001b[0m\u001b[0;34m]\u001b[0m\u001b[0;34m\u001b[0m\u001b[0;34m\u001b[0m\u001b[0m\n\u001b[1;32m    241\u001b[0m         \u001b[0;32mfor\u001b[0m \u001b[0mx_mb\u001b[0m\u001b[0;34m,\u001b[0m \u001b[0my_mb\u001b[0m \u001b[0;32min\u001b[0m \u001b[0mtrain_data\u001b[0m\u001b[0;34m:\u001b[0m\u001b[0;34m\u001b[0m\u001b[0;34m\u001b[0m\u001b[0m\n\u001b[0;32m--> 242\u001b[0;31m             \u001b[0mstats\u001b[0m\u001b[0;34m,\u001b[0m \u001b[0;34m(\u001b[0m\u001b[0mreparametrized\u001b[0m\u001b[0;34m,\u001b[0m \u001b[0m_\u001b[0m\u001b[0;34m,\u001b[0m \u001b[0m_\u001b[0m\u001b[0;34m)\u001b[0m \u001b[0;34m=\u001b[0m \u001b[0mself\u001b[0m\u001b[0;34m.\u001b[0m\u001b[0mmodel\u001b[0m\u001b[0;34m.\u001b[0m\u001b[0mtrain_step\u001b[0m\u001b[0;34m(\u001b[0m\u001b[0moptimizer\u001b[0m\u001b[0;34m,\u001b[0m \u001b[0mx_mb\u001b[0m\u001b[0;34m,\u001b[0m \u001b[0my_mb\u001b[0m\u001b[0;34m,\u001b[0m \u001b[0mbeta\u001b[0m\u001b[0;34m=\u001b[0m\u001b[0mbeta\u001b[0m\u001b[0;34m,\u001b[0m \u001b[0mepoch_num\u001b[0m\u001b[0;34m=\u001b[0m\u001b[0mself\u001b[0m\u001b[0;34m.\u001b[0m\u001b[0mepoch\u001b[0m\u001b[0;34m)\u001b[0m\u001b[0;34m\u001b[0m\u001b[0;34m\u001b[0m\u001b[0m\n\u001b[0m\u001b[1;32m    243\u001b[0m \u001b[0;34m\u001b[0m\u001b[0m\n\u001b[1;32m    244\u001b[0m             \u001b[0;31m# if self.stats.train_statistics:\u001b[0m\u001b[0;34m\u001b[0m\u001b[0;34m\u001b[0m\u001b[0m\n",
            "\u001b[0;32m/content/scrna_mvae/mt/mvae/models/vae.py\u001b[0m in \u001b[0;36mtrain_step\u001b[0;34m(self, optimizer, x_mb, y_mb, beta, epoch_num)\u001b[0m\n\u001b[1;32m    589\u001b[0m                         \u001b[0mloss\u001b[0m \u001b[0;34m=\u001b[0m \u001b[0;34m-\u001b[0m\u001b[0mbatch_stats\u001b[0m\u001b[0;34m.\u001b[0m\u001b[0melbo2\u001b[0m\u001b[0;34m\u001b[0m\u001b[0;34m\u001b[0m\u001b[0m\n\u001b[1;32m    590\u001b[0m         \u001b[0;32massert\u001b[0m \u001b[0mtorch\u001b[0m\u001b[0;34m.\u001b[0m\u001b[0misfinite\u001b[0m\u001b[0;34m(\u001b[0m\u001b[0mloss\u001b[0m\u001b[0;34m)\u001b[0m\u001b[0;34m.\u001b[0m\u001b[0mall\u001b[0m\u001b[0;34m(\u001b[0m\u001b[0;34m)\u001b[0m\u001b[0;34m\u001b[0m\u001b[0;34m\u001b[0m\u001b[0m\n\u001b[0;32m--> 591\u001b[0;31m         \u001b[0mloss\u001b[0m\u001b[0;34m.\u001b[0m\u001b[0mbackward\u001b[0m\u001b[0;34m(\u001b[0m\u001b[0;34m)\u001b[0m\u001b[0;34m\u001b[0m\u001b[0;34m\u001b[0m\u001b[0m\n\u001b[0m\u001b[1;32m    592\u001b[0m \u001b[0;34m\u001b[0m\u001b[0m\n\u001b[1;32m    593\u001b[0m         \u001b[0mc_params\u001b[0m \u001b[0;34m=\u001b[0m \u001b[0;34m[\u001b[0m\u001b[0mv\u001b[0m \u001b[0;32mfor\u001b[0m \u001b[0mk\u001b[0m\u001b[0;34m,\u001b[0m \u001b[0mv\u001b[0m \u001b[0;32min\u001b[0m \u001b[0mself\u001b[0m\u001b[0;34m.\u001b[0m\u001b[0mnamed_parameters\u001b[0m\u001b[0;34m(\u001b[0m\u001b[0;34m)\u001b[0m \u001b[0;32mif\u001b[0m \u001b[0;34m\"curvature\"\u001b[0m \u001b[0;32min\u001b[0m \u001b[0mk\u001b[0m\u001b[0;34m]\u001b[0m\u001b[0;34m\u001b[0m\u001b[0;34m\u001b[0m\u001b[0m\n",
            "\u001b[0;32m/usr/local/lib/python3.10/dist-packages/torch/_tensor.py\u001b[0m in \u001b[0;36mbackward\u001b[0;34m(self, gradient, retain_graph, create_graph, inputs)\u001b[0m\n\u001b[1;32m    579\u001b[0m                 \u001b[0minputs\u001b[0m\u001b[0;34m=\u001b[0m\u001b[0minputs\u001b[0m\u001b[0;34m,\u001b[0m\u001b[0;34m\u001b[0m\u001b[0;34m\u001b[0m\u001b[0m\n\u001b[1;32m    580\u001b[0m             )\n\u001b[0;32m--> 581\u001b[0;31m         torch.autograd.backward(\n\u001b[0m\u001b[1;32m    582\u001b[0m             \u001b[0mself\u001b[0m\u001b[0;34m,\u001b[0m \u001b[0mgradient\u001b[0m\u001b[0;34m,\u001b[0m \u001b[0mretain_graph\u001b[0m\u001b[0;34m,\u001b[0m \u001b[0mcreate_graph\u001b[0m\u001b[0;34m,\u001b[0m \u001b[0minputs\u001b[0m\u001b[0;34m=\u001b[0m\u001b[0minputs\u001b[0m\u001b[0;34m\u001b[0m\u001b[0;34m\u001b[0m\u001b[0m\n\u001b[1;32m    583\u001b[0m         )\n",
            "\u001b[0;32m/usr/local/lib/python3.10/dist-packages/torch/autograd/__init__.py\u001b[0m in \u001b[0;36mbackward\u001b[0;34m(tensors, grad_tensors, retain_graph, create_graph, grad_variables, inputs)\u001b[0m\n\u001b[1;32m    345\u001b[0m     \u001b[0;31m# some Python versions print out the first line of a multi-line function\u001b[0m\u001b[0;34m\u001b[0m\u001b[0;34m\u001b[0m\u001b[0m\n\u001b[1;32m    346\u001b[0m     \u001b[0;31m# calls in the traceback and some print out the last line\u001b[0m\u001b[0;34m\u001b[0m\u001b[0;34m\u001b[0m\u001b[0m\n\u001b[0;32m--> 347\u001b[0;31m     _engine_run_backward(\n\u001b[0m\u001b[1;32m    348\u001b[0m         \u001b[0mtensors\u001b[0m\u001b[0;34m,\u001b[0m\u001b[0;34m\u001b[0m\u001b[0;34m\u001b[0m\u001b[0m\n\u001b[1;32m    349\u001b[0m         \u001b[0mgrad_tensors_\u001b[0m\u001b[0;34m,\u001b[0m\u001b[0;34m\u001b[0m\u001b[0;34m\u001b[0m\u001b[0m\n",
            "\u001b[0;32m/usr/local/lib/python3.10/dist-packages/torch/autograd/graph.py\u001b[0m in \u001b[0;36m_engine_run_backward\u001b[0;34m(t_outputs, *args, **kwargs)\u001b[0m\n\u001b[1;32m    823\u001b[0m         \u001b[0munregister_hooks\u001b[0m \u001b[0;34m=\u001b[0m \u001b[0m_register_logging_hooks_on_whole_graph\u001b[0m\u001b[0;34m(\u001b[0m\u001b[0mt_outputs\u001b[0m\u001b[0;34m)\u001b[0m\u001b[0;34m\u001b[0m\u001b[0;34m\u001b[0m\u001b[0m\n\u001b[1;32m    824\u001b[0m     \u001b[0;32mtry\u001b[0m\u001b[0;34m:\u001b[0m\u001b[0;34m\u001b[0m\u001b[0;34m\u001b[0m\u001b[0m\n\u001b[0;32m--> 825\u001b[0;31m         return Variable._execution_engine.run_backward(  # Calls into the C++ engine to run the backward pass\n\u001b[0m\u001b[1;32m    826\u001b[0m             \u001b[0mt_outputs\u001b[0m\u001b[0;34m,\u001b[0m \u001b[0;34m*\u001b[0m\u001b[0margs\u001b[0m\u001b[0;34m,\u001b[0m \u001b[0;34m**\u001b[0m\u001b[0mkwargs\u001b[0m\u001b[0;34m\u001b[0m\u001b[0;34m\u001b[0m\u001b[0m\n\u001b[1;32m    827\u001b[0m         )  # Calls into the C++ engine to run the backward pass\n",
            "\u001b[0;32m/usr/local/lib/python3.10/dist-packages/torch/autograd/function.py\u001b[0m in \u001b[0;36mapply\u001b[0;34m(self, *args)\u001b[0m\n\u001b[1;32m    290\u001b[0m     \"\"\"\n\u001b[1;32m    291\u001b[0m \u001b[0;34m\u001b[0m\u001b[0m\n\u001b[0;32m--> 292\u001b[0;31m     \u001b[0;32mdef\u001b[0m \u001b[0mapply\u001b[0m\u001b[0;34m(\u001b[0m\u001b[0mself\u001b[0m\u001b[0;34m,\u001b[0m \u001b[0;34m*\u001b[0m\u001b[0margs\u001b[0m\u001b[0;34m)\u001b[0m\u001b[0;34m:\u001b[0m\u001b[0;34m\u001b[0m\u001b[0;34m\u001b[0m\u001b[0m\n\u001b[0m\u001b[1;32m    293\u001b[0m         r\"\"\"\n\u001b[1;32m    294\u001b[0m         \u001b[0mApply\u001b[0m \u001b[0mmethod\u001b[0m \u001b[0mused\u001b[0m \u001b[0mwhen\u001b[0m \u001b[0mexecuting\u001b[0m \u001b[0mthis\u001b[0m \u001b[0mNode\u001b[0m \u001b[0mduring\u001b[0m \u001b[0mthe\u001b[0m \u001b[0mbackward\u001b[0m\u001b[0;34m\u001b[0m\u001b[0;34m\u001b[0m\u001b[0m\n",
            "\u001b[0;31mKeyboardInterrupt\u001b[0m: "
          ]
        }
      ],
      "source": [
        "if config.seed:\n",
        "    print(config.seed)\n",
        "    torch.manual_seed(config.seed)\n",
        "    np.random.seed(config.seed)\n",
        "    np.random.default_rng(config.seed)\n",
        "\n",
        "model_name = config.model_name\n",
        "components = utils.parse_components(model_name, config.fixed_curvature)\n",
        "# =====\n",
        "model = NBVAE(h_dim=config.h_dim,\n",
        "              components=components,\n",
        "              mask=mask,\n",
        "              dataset=dataset,\n",
        "              config=config,\n",
        "              first_signal_components=None\n",
        "                  ).to(config.device)\n",
        "\n",
        "trainer = Trainer(model,\n",
        "                  # img_dims=[10,10],\n",
        "                  # chkpt_dir=chkpt_dir,\n",
        "                  # train_statistics=0,\n",
        "                  # show_embeddings=False,\n",
        "                  # export_embeddings=False,\n",
        "                  # test_every=0\n",
        "                  )\n",
        "\n",
        "optimizer = trainer.build_optimizer(learning_rate=config.learning_rate,\n",
        "                                        fixed_curvature=config.fixed_curvature,\n",
        "                                        use_adamw=config.use_adamw,\n",
        "                                        weight_decay=config.weight_decay)\n",
        "\n",
        "betas = utils.linear_betas(config.start,\n",
        "                           config.end,\n",
        "                           end_epoch=config.end_epoch,\n",
        "                           epochs=config.epochs)\n",
        "\n",
        "trainer.train_epochs(optimizer=optimizer,\n",
        "                       train_data=train_loader,\n",
        "                       # eval_data=test_loader,\n",
        "                       # warmup=20,\n",
        "                       # lookahead=10,\n",
        "                       betas=betas,\n",
        "                       likelihood_n=200,\n",
        "                       max_epochs=config.max_epochs,\n",
        "                           visualize_information=visualize_information)"
      ]
    },
    {
      "cell_type": "markdown",
      "metadata": {
        "id": "HtVhUEOkP1A2"
      },
      "source": [
        "Save the trained embeddings."
      ]
    },
    {
      "cell_type": "code",
      "execution_count": null,
      "metadata": {
        "id": "1j8ua6icNZ-L"
      },
      "outputs": [],
      "source": [
        "embeddings_save_path = \"./\"\n",
        "a = trainer.model(torch.log1p(torch.tensor(x)), torch.tensor(y))\n",
        "np.savetxt(os.path.join(embeddings_save_path, f'{model_name}_all_encode_v63_z_params.txt'), a[4].detach().numpy())"
      ]
    },
    {
      "cell_type": "markdown",
      "metadata": {
        "id": "8r6bqAokr4KM"
      },
      "source": [
        "## Evaluate and analyze the embeddings."
      ]
    },
    {
      "cell_type": "markdown",
      "metadata": {
        "id": "_MaiasOlSKcd"
      },
      "source": [
        "### Visualize the embeddings."
      ]
    },
    {
      "cell_type": "code",
      "source": [
        "import matplotlib.pyplot as plt\n",
        "\n",
        "from mt.visualization.helpers import split_embeddings\n",
        "from mt.visualization.visualization_functions import visualize_poincare_from_lorentz, compute_umap"
      ],
      "metadata": {
        "id": "lK4JDKNdXMiL"
      },
      "execution_count": null,
      "outputs": []
    },
    {
      "cell_type": "code",
      "execution_count": null,
      "metadata": {
        "id": "smEFPBWbwrgG"
      },
      "outputs": [],
      "source": [
        "embeddings_save_path = \"./\"\n",
        "model_name = \"r2, e10\"\n",
        "# Load in the embeddings\n",
        "embeddings = np.loadtxt(os.path.join(embeddings_save_path, f'{model_name}_all_encode_v63_z_params.txt'))"
      ]
    },
    {
      "cell_type": "code",
      "execution_count": null,
      "metadata": {
        "colab": {
          "base_uri": "https://localhost:8080/"
        },
        "id": "ygQGUfqUSPRe",
        "outputId": "bf2b9f58-fa9e-49cd-c301-3d6f09677f10"
      },
      "outputs": [
        {
          "output_type": "stream",
          "name": "stdout",
          "text": [
            "r2 3\n",
            "e10 10\n"
          ]
        }
      ],
      "source": [
        "# Returns a dictionary where the keys are of the format componenti_subspace\n",
        "# E.g., r2, e10 would result in keys of component1_r2 and component2_e10\n",
        "# The values are the corresponding embeddings\n",
        "component_embeddings = split_embeddings(model_name, embeddings)\n",
        "for c in component_embeddings:\n",
        "    adata.obsm[c] = component_embeddings[c]"
      ]
    },
    {
      "cell_type": "markdown",
      "metadata": {
        "id": "Op9Km-1Q6k0u"
      },
      "source": [
        "Visualize $\\mathbf{z}^1 \\in \\mathbb{H}^2$ when projected to Poincare coordinates and colored by cell cycle phase. The cells separate by cell cycle phase and proceed in the expected order (G1.S $\\rightarrow$ S $\\rightarrow$ G2 $\\rightarrow$ G2.M $\\rightarrow$ M.G1)."
      ]
    },
    {
      "cell_type": "code",
      "execution_count": null,
      "metadata": {
        "id": "v_tdWg5oUEH3"
      },
      "outputs": [],
      "source": [
        "embeddings_key = \"component1_r2\"\n",
        "desired_obs = 'ccPhase'\n",
        "desired_obs_all = adata.obs[desired_obs]\n",
        "legend_coordinates = (1.23,1.01)\n",
        "fig = visualize_poincare_from_lorentz(adata.obsm[embeddings_key],\n",
        "                       desired_obs_all,\n",
        "                       curvature=-2,\n",
        "                      embedding_type='discrete',\n",
        "                       cmap=plt.cm.viridis,\n",
        "                       cat_colors=None,\n",
        "                      grid_lines=True,\n",
        "                      c_bar_label=\"Transcriptional Phase\",\n",
        "                      bbox_to_anchor=legend_coordinates)"
      ]
    },
    {
      "cell_type": "markdown",
      "metadata": {
        "id": "NlOPjMec6mRN"
      },
      "source": [
        "Visualize $\\mathbf{z}^1 \\in \\mathbb{H}^2$ when projected to Poincare coordinates and colored by wild type (WT) and knockout (Ago2KO). The cells are mixed together."
      ]
    },
    {
      "cell_type": "code",
      "execution_count": null,
      "metadata": {
        "id": "tXn1-xkM6cpL"
      },
      "outputs": [],
      "source": [
        "embeddings_key = \"component1_r2\"\n",
        "desired_obs = 'batch'\n",
        "desired_obs_all = adata.obs[desired_obs]\n",
        "legend_coordinates = (1.23,1.01)\n",
        "fig = visualize_poincare_from_lorentz(adata.obsm[embeddings_key],\n",
        "                       desired_obs_all,\n",
        "                       curvature=-2,\n",
        "                      embedding_type='discrete',\n",
        "                       cmap=plt.cm.viridis,\n",
        "                       cat_colors=None,\n",
        "                      grid_lines=True,\n",
        "                      c_bar_label=\"Transcriptional Phase\",\n",
        "                      bbox_to_anchor=legend_coordinates)"
      ]
    },
    {
      "cell_type": "markdown",
      "metadata": {
        "id": "RkH-QE497tdG"
      },
      "source": [
        "Visualize $\\mathbf{z}^2 \\in \\mathbb{E}^{10}$ when projected to 2D using UMAP and colored by cell cycle phase and wild type (WT) and knockout (Ago2KO). The cells are mixed by cell cycle and separated by wild type and knockout."
      ]
    },
    {
      "cell_type": "code",
      "execution_count": null,
      "metadata": {
        "id": "4z5PDnMdTert"
      },
      "outputs": [],
      "source": [
        "compute_umap(adata,\n",
        "             l_neighbors=50,\n",
        "             color=['ccPhase','batch'],\n",
        "             # component=\"first\",\n",
        "             n_pcs=None,\n",
        "             embeddings_key=\"component2_e10\",\n",
        "             use_original_umap=False,\n",
        "             palette=None,\n",
        "             additional_save_information=[],\n",
        "             title=None,\n",
        "             save_figure=False)"
      ]
    },
    {
      "cell_type": "markdown",
      "metadata": {
        "id": "CsIsndV7SRD_"
      },
      "source": [
        "### Obtain the cell cycle pseudotime."
      ]
    },
    {
      "cell_type": "code",
      "source": [
        "from mt.visualization.helpers import get_mvae_pseudotime"
      ],
      "metadata": {
        "id": "IQAMmIqiW9q0"
      },
      "execution_count": null,
      "outputs": []
    },
    {
      "cell_type": "code",
      "execution_count": null,
      "metadata": {
        "colab": {
          "base_uri": "https://localhost:8080/"
        },
        "id": "npHyqoF0TxnP",
        "outputId": "39784cc7-96c3-409b-86a3-72723536a166"
      },
      "outputs": [
        {
          "output_type": "stream",
          "name": "stdout",
          "text": [
            "[ 0.17240523  0.41848734 -0.14419657 ...  0.03851068  0.08925312\n",
            "  0.22100583]\n",
            "[-0.57300565 -0.45233391 -0.5727724  ...  0.15095704  0.15584667\n",
            "  0.16165791]\n"
          ]
        }
      ],
      "source": [
        "embeddings_key = 'component1_r2'\n",
        "# The curvature of the space\n",
        "curvature = -2\n",
        "# The point to measure pseudotime from\n",
        "pseudotime_origin = (0.0, 0.0)\n",
        "# If recentering the cells, the new origin\n",
        "new_origin = (0.0, 0.0)\n",
        "# The angle to rotate the cells by around the origin (0.0, 0.0)\n",
        "rotation_angle = 0\n",
        "# Whether to flip the orientation of the cells so cells assigned a pseudotime of 0 will be assigned a pseudotime of 2pi and vice versa\n",
        "flip = True\n",
        "\n",
        "adata.obs['mvae_pseudotime'] = get_mvae_pseudotime(adata.obsm[embeddings_key],\n",
        "                                                 curvature,\n",
        "                                                 pseudotime_origin,\n",
        "                                                 rotation_angle,\n",
        "                                                 flip,\n",
        "                                                 new_origin)[1]\n",
        "sorting_order = np.argsort(adata.obs[\"mvae_pseudotime\"].values)\n",
        "adata.uns['mvae_pseudotime_order'] = sorting_order"
      ]
    },
    {
      "cell_type": "markdown",
      "metadata": {
        "id": "6aHEz_ttSMCH"
      },
      "source": [
        "### Visualize the gene expression after ordering cells by pseudotime."
      ]
    },
    {
      "cell_type": "markdown",
      "metadata": {
        "id": "kSmSlG5i-h1-"
      },
      "source": [
        "If the data is the raw counts, log-normalize."
      ]
    },
    {
      "cell_type": "code",
      "execution_count": null,
      "metadata": {
        "id": "Yakul87X-ZAG"
      },
      "outputs": [],
      "source": [
        "import copy as copy\n",
        "\n",
        "from mt.visualization.helpers import make_dir\n",
        "from mt.visualization.visualization_functions import plot_gene_change"
      ]
    },
    {
      "cell_type": "code",
      "execution_count": null,
      "metadata": {
        "id": "fUwWN0wcLg6B"
      },
      "outputs": [],
      "source": [
        "original_adata=copy.deepcopy(adata)"
      ]
    },
    {
      "cell_type": "code",
      "execution_count": null,
      "metadata": {
        "id": "8cXxYJq-C92f"
      },
      "outputs": [],
      "source": [
        "# sc.pp.filter_cells(adata, min_counts=2000)\n",
        "sc.pp.normalize_per_cell(adata, counts_per_cell_after=1e4)\n",
        "sc.pp.log1p(adata)\n",
        "# orig_adata  = adata.copy()\n",
        "# sc.pp.filter_genes_dispersion(adata,n_top_genes=7000)"
      ]
    },
    {
      "cell_type": "code",
      "execution_count": null,
      "metadata": {
        "id": "PpxqcInB-6UN"
      },
      "outputs": [],
      "source": [
        "adata.var.index=adata.var[\"gene_symbols\"]"
      ]
    },
    {
      "cell_type": "code",
      "execution_count": null,
      "metadata": {
        "colab": {
          "base_uri": "https://localhost:8080/"
        },
        "id": "1aQgohqG-_Im",
        "outputId": "4adb1c7f-e2b9-4a28-a7b0-c9823dd4ceee"
      },
      "outputs": [
        {
          "output_type": "stream",
          "name": "stderr",
          "text": [
            "/usr/local/lib/python3.10/dist-packages/anndata/_core/storage.py:39: ImplicitModificationWarning: X should not be a np.matrix, use np.ndarray instead.\n",
            "  warnings.warn(msg, ImplicitModificationWarning)\n"
          ]
        }
      ],
      "source": [
        "adata.X=adata.X.todense()"
      ]
    },
    {
      "cell_type": "markdown",
      "metadata": {
        "id": "JW6hd-yZAfWO"
      },
      "source": [
        "Some cell cycle genes to visualize."
      ]
    },
    {
      "cell_type": "code",
      "execution_count": null,
      "metadata": {
        "id": "aHB8Vg-YfJtS"
      },
      "outputs": [],
      "source": [
        "G1_S_genes=[\"CCNE2\",\"ORC1\",\"CCNE1\",\"MCM6\"]\n",
        "S_genes=[\"CCNE2\",\"RRM2\"]\n",
        "G2_genes=[\"CDK1\",\"CCNF\",\"NUSAP1\",\"CCNA2\"]\n",
        "G2_M_genes=[\"CCNB1\",\"CDC20\",\"NUSAP1\",\"AURKA\",\"CCNA2\",\"CCNB2\"]\n",
        "M_genes=[\"CDC20\"]\n",
        "\n",
        "subset_phase_genes = {\"G1_S\": G1_S_genes,\n",
        "                \"S\": S_genes,\n",
        "               \"G2\": G2_genes,\n",
        "               \"G2_M\": G2_M_genes,\n",
        "               \"M\": M_genes}"
      ]
    },
    {
      "cell_type": "markdown",
      "metadata": {
        "id": "UYQbJke1Aj_W"
      },
      "source": [
        "Associate each of the cells with the corresponding cell cycle phase color. *E.g.*, S cells are purple."
      ]
    },
    {
      "cell_type": "code",
      "execution_count": null,
      "metadata": {
        "id": "XPcY43bDPnjP"
      },
      "outputs": [],
      "source": [
        "ordered_ccPhase=[\"G1.S\",\"S\",\"G2\",\"G2.M\",\"M.G1\"]\n",
        "adata.obs['ccPhase_ordered']=pd.Categorical(values=adata.obs['ccPhase'],categories=ordered_ccPhase,ordered=True)"
      ]
    },
    {
      "cell_type": "code",
      "execution_count": null,
      "metadata": {
        "id": "wxsDUU6JPnjJ"
      },
      "outputs": [],
      "source": [
        "ccPhase_palette={\"G1.S\":\"tab:blue\",\n",
        "                 \"S\":\"tab:purple\",\n",
        "                 \"G2\":\"tab:orange\",\n",
        "                 \"G2.M\":\"tab:green\",\n",
        "                 \"M.G1\":\"tab:red\"}"
      ]
    },
    {
      "cell_type": "code",
      "execution_count": null,
      "metadata": {
        "colab": {
          "base_uri": "https://localhost:8080/"
        },
        "id": "SGP9ymz4um4C",
        "outputId": "7b5bf58e-caba-48dc-e7cf-2e6732d7eb1f"
      },
      "outputs": [
        {
          "output_type": "stream",
          "name": "stderr",
          "text": [
            "<ipython-input-77-8c4d953f9dcf>:2: FutureWarning: Series.__getitem__ treating keys as positions is deprecated. In a future version, integer keys will always be treated as labels (consistent with DataFrame behavior). To access a value by position, use `ser.iloc[pos]`\n",
            "  colors = [ccPhase_palette[phase] for phase in adata.obs[cell_cycle_obs][adata.uns[\"mvae_pseudotime_order\"]]]\n",
            "<ipython-input-77-8c4d953f9dcf>:4: FutureWarning: Series.__getitem__ treating keys as positions is deprecated. In a future version, integer keys will always be treated as labels (consistent with DataFrame behavior). To access a value by position, use `ser.iloc[pos]`\n",
            "  labels = adata.obs[cell_cycle_obs][adata.uns[\"mvae_pseudotime_order\"]]\n"
          ]
        }
      ],
      "source": [
        "cell_cycle_obs = \"ccPhase_ordered\"\n",
        "colors = [ccPhase_palette[phase] for phase in adata.obs[cell_cycle_obs][adata.uns[\"mvae_pseudotime_order\"]]]\n",
        "colors = np.array(colors)\n",
        "labels = adata.obs[cell_cycle_obs][adata.uns[\"mvae_pseudotime_order\"]]"
      ]
    },
    {
      "cell_type": "code",
      "execution_count": null,
      "metadata": {
        "id": "3V0MjujOuN94"
      },
      "outputs": [],
      "source": [
        "gene_save_dir_path=\"./\"\n",
        "gene_save_path=os.path.join(gene_save_dir_path,\"cycle_genes\")\n",
        "if not os.path.exists(gene_save_path):\n",
        "  os.mkdir(gene_save_path)"
      ]
    },
    {
      "cell_type": "code",
      "execution_count": null,
      "metadata": {
        "id": "jvWb6gn2-0L9"
      },
      "outputs": [],
      "source": [
        "phase_genes=subset_phase_genes"
      ]
    },
    {
      "cell_type": "code",
      "execution_count": null,
      "metadata": {
        "id": "RvSX-Dn70Lu3"
      },
      "outputs": [],
      "source": [
        "desired_phases=subset_phase_genes.keys()\n",
        "for desired_phase in desired_phases:\n",
        "    phase_gene_list = phase_genes[desired_phase]\n",
        "    print(phase_gene_list)\n",
        "    make_dir(gene_save_path, desired_phase)\n",
        "    phase_dir_path = os.path.join(gene_save_path, desired_phase)\n",
        "    for gene in phase_gene_list:\n",
        "\n",
        "        if gene in adata.var.index:\n",
        "\n",
        "            adata.obs[f'{gene}_obs']=np.array(adata[:,gene].X.squeeze())\n",
        "            phase_dir_path = os.path.join(gene_save_path,desired_phase)\n",
        "\n",
        "            plot_gene_change(adata[adata.uns['mvae_pseudotime_order']],desired_phase,gene,colors,labels,phase_dir_path,ccPhase_palette=None)"
      ]
    }
  ],
  "metadata": {
    "colab": {
      "provenance": [],
      "authorship_tag": "ABX9TyN9i/4JhfCv2BQ/0WIEr0mt",
      "include_colab_link": true
    },
    "kernelspec": {
      "display_name": "Python 3",
      "name": "python3"
    },
    "language_info": {
      "name": "python"
    }
  },
  "nbformat": 4,
  "nbformat_minor": 0
}